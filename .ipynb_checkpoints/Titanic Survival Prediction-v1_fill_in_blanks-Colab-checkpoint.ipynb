{
 "cells": [
  {
   "cell_type": "markdown",
   "metadata": {
    "colab_type": "text",
    "id": "iOnZpbAiPK1A"
   },
   "source": [
    "# Titanic: Machine Learning from Disaster -> Predict if a passenger will survive or not\n",
    "\n",
    "On April 15, 1912, during her maiden voyage, the widely considered “unsinkable” RMS Titanic sank after colliding with an iceberg. Unfortunately, there weren’t enough lifeboats for everyone onboard, resulting in the death of 1502 out of 2224 passengers and crew.\n",
    "\n",
    "While there was some element of luck involved in surviving, it seems some groups of people were more likely to survive than others.\n",
    "\n",
    "In this notebook, we ask you to build a predictive model that answers the question: “what sorts of people were more likely to survive?” using passenger data (ie name, age, gender, socio-economic class, etc)."
   ]
  },
  {
   "cell_type": "markdown",
   "metadata": {
    "colab_type": "text",
    "id": "MYHkRtC1PK1F"
   },
   "source": [
    "## Import Libraries"
   ]
  },
  {
   "cell_type": "code",
   "execution_count": null,
   "metadata": {
    "colab": {},
    "colab_type": "code",
    "id": "zRMz5_saPK1H"
   },
   "outputs": [],
   "source": [
    "#importing the libraries\n",
    "import pandas as pd\n",
    "import os\n",
    "import numpy as np\n",
    "import matplotlib.pyplot as plt\n",
    "from sklearn.metrics import confusion_matrix\n",
    "import seaborn as sns\n",
    "from google.colab import files\n",
    "import io"
   ]
  },
  {
   "cell_type": "markdown",
   "metadata": {
    "colab_type": "text",
    "id": "EDQa-qClPK1T"
   },
   "source": [
    "## Load Training Data"
   ]
  },
  {
   "cell_type": "code",
   "execution_count": null,
   "metadata": {
    "colab": {},
    "colab_type": "code",
    "id": "_0vVgNLaQdWs"
   },
   "outputs": [],
   "source": [
    "# reading the training dataset\n",
    "uploaded = files.upload()"
   ]
  },
  {
   "cell_type": "code",
   "execution_count": null,
   "metadata": {
    "colab": {
     "base_uri": "https://localhost:8080/",
     "height": 442
    },
    "colab_type": "code",
    "executionInfo": {
     "elapsed": 1268,
     "status": "ok",
     "timestamp": 1575376933508,
     "user": {
      "displayName": "Anvesh Matta",
      "photoUrl": "https://lh3.googleusercontent.com/a-/AAuE7mAV8PpLg1UuE6lgDlmyD-ryvAMlqrN1UzlgtKthQw=s64",
      "userId": "17499112139080489183"
     },
     "user_tz": -330
    },
    "id": "nXcnAazhPK1a",
    "outputId": "0787cc4c-52ad-4b89-9623-2d5b8ea0d606"
   },
   "outputs": [],
   "source": [
    "#shape command will give number of rows/samples/examples and number of columns/features/predictors in dataset\n",
    "titanic_train = pd.read_csv(io.BytesIO(uploaded['train.csv']))\n",
    "print(titanic_train.shape)\n",
    "print(titanic_train.dtypes)\n",
    "titanic_train._____() # fill here"
   ]
  },
  {
   "cell_type": "code",
   "execution_count": null,
   "metadata": {
    "colab": {
     "base_uri": "https://localhost:8080/",
     "height": 246
    },
    "colab_type": "code",
    "executionInfo": {
     "elapsed": 994,
     "status": "ok",
     "timestamp": 1575376940811,
     "user": {
      "displayName": "Anvesh Matta",
      "photoUrl": "https://lh3.googleusercontent.com/a-/AAuE7mAV8PpLg1UuE6lgDlmyD-ryvAMlqrN1UzlgtKthQw=s64",
      "userId": "17499112139080489183"
     },
     "user_tz": -330
    },
    "id": "ZntFlY_gPK1f",
    "outputId": "80b4a245-57f6-4eda-d4f3-79fcc53290b9"
   },
   "outputs": [],
   "source": [
    "titanic_train.dtypes"
   ]
  },
  {
   "cell_type": "markdown",
   "metadata": {
    "colab_type": "text",
    "id": "XmC7YLjwPK1j"
   },
   "source": [
    "#### Data Dictionary\n",
    "\n",
    "- Survival\n",
    "    - 0 = No\n",
    "    - 1 = Yes\n",
    "- pclass - Ticket class\n",
    "    - 1 = 1st\n",
    "    - 2 = 2nd\n",
    "    - 3 = 3rd\n",
    "- Gender\tGender\t\n",
    "- Age\tAge in years\t\n",
    "- sibsp -\t# of siblings / spouses aboard the Titanic\t\n",
    "- parch - # of parents / children aboard the Titanic\t\n",
    "- ticket - Ticket number\t\n",
    "- fare - Passenger fare\t\n",
    "- cabin - Cabin number\t\n",
    "- embarked - Port of Embarkation\n",
    "    - C = Cherbourg\n",
    "    - Q = Queenstown\n",
    "    - S = Southampton\n",
    "\n",
    "\n",
    "#### Variable Notes\n",
    "- pclass: A proxy for socio-economic status (SES)\n",
    "    - 1st = Upper\n",
    "    - 2nd = Middle\n",
    "    - 3rd = Lower\n",
    "\n",
    "- age: Age is fractional if less than 1. If the age is estimated, is it in the form of xx.5\n",
    "\n",
    "- sibsp: The dataset defines family relations in this way...\n",
    "- Sibling = brother, sister, stepbrother, stepsister\n",
    "- Spouse = husband, wife (mistresses and fiancés were ignored)\n",
    "\n",
    "- parch: The dataset defines family relations in this way...\n",
    "- Parent = mother, father\n",
    "- child = daughter, son, stepdaughter, stepson\n",
    "    Some children travelled only with a nanny, therefore parch=0 for them."
   ]
  },
  {
   "cell_type": "code",
   "execution_count": null,
   "metadata": {
    "colab": {
     "base_uri": "https://localhost:8080/",
     "height": 316
    },
    "colab_type": "code",
    "executionInfo": {
     "elapsed": 1365,
     "status": "ok",
     "timestamp": 1575376962680,
     "user": {
      "displayName": "Anvesh Matta",
      "photoUrl": "https://lh3.googleusercontent.com/a-/AAuE7mAV8PpLg1UuE6lgDlmyD-ryvAMlqrN1UzlgtKthQw=s64",
      "userId": "17499112139080489183"
     },
     "user_tz": -330
    },
    "id": "zhwRpksNPK1k",
    "outputId": "1f4b9790-33f8-4fae-ab5a-9d66bcd01930"
   },
   "outputs": [],
   "source": [
    "#info method provides information about dataset like \n",
    "#total values in each column, null/not null, datatype, memory occupied etc\n",
    "titanic_train._____() # fill here"
   ]
  },
  {
   "cell_type": "code",
   "execution_count": null,
   "metadata": {
    "colab": {
     "base_uri": "https://localhost:8080/",
     "height": 284
    },
    "colab_type": "code",
    "executionInfo": {
     "elapsed": 1087,
     "status": "ok",
     "timestamp": 1575376963034,
     "user": {
      "displayName": "Anvesh Matta",
      "photoUrl": "https://lh3.googleusercontent.com/a-/AAuE7mAV8PpLg1UuE6lgDlmyD-ryvAMlqrN1UzlgtKthQw=s64",
      "userId": "17499112139080489183"
     },
     "user_tz": -330
    },
    "id": "R8fUHht9PK1n",
    "outputId": "fca37221-10b3-4af8-8b7a-9b3cc8c8b358"
   },
   "outputs": [],
   "source": [
    "#Describe gives statistical information about numerical columns in the dataset\n",
    "titanic_train.describe()\n",
    "#you can check from count if there are missing vales in columns, here age has got missing values"
   ]
  },
  {
   "cell_type": "code",
   "execution_count": null,
   "metadata": {
    "colab": {
     "base_uri": "https://localhost:8080/",
     "height": 195
    },
    "colab_type": "code",
    "executionInfo": {
     "elapsed": 1570,
     "status": "ok",
     "timestamp": 1575376967027,
     "user": {
      "displayName": "Anvesh Matta",
      "photoUrl": "https://lh3.googleusercontent.com/a-/AAuE7mAV8PpLg1UuE6lgDlmyD-ryvAMlqrN1UzlgtKthQw=s64",
      "userId": "17499112139080489183"
     },
     "user_tz": -330
    },
    "id": "CnjT3hRtPK1r",
    "outputId": "ca3b1385-4f3e-40f4-848a-8a6febf36423"
   },
   "outputs": [],
   "source": [
    "#show first 5 rows of dataset\n",
    "titanic_train.head()"
   ]
  },
  {
   "cell_type": "code",
   "execution_count": null,
   "metadata": {
    "colab": {
     "base_uri": "https://localhost:8080/",
     "height": 246
    },
    "colab_type": "code",
    "executionInfo": {
     "elapsed": 1998,
     "status": "ok",
     "timestamp": 1575376973888,
     "user": {
      "displayName": "Anvesh Matta",
      "photoUrl": "https://lh3.googleusercontent.com/a-/AAuE7mAV8PpLg1UuE6lgDlmyD-ryvAMlqrN1UzlgtKthQw=s64",
      "userId": "17499112139080489183"
     },
     "user_tz": -330
    },
    "id": "xIhMhDn4PK1t",
    "outputId": "948b4e23-91f2-48fe-ea4d-e620474f2da9"
   },
   "outputs": [],
   "source": [
    "#check missing values\n",
    "titanic_train.isnull().sum()"
   ]
  },
  {
   "cell_type": "markdown",
   "metadata": {
    "colab_type": "text",
    "id": "GCcyC9JTPK1x"
   },
   "source": [
    "Describe only gives stats about numerical columns\n",
    "even Embarked and cabin has missing values"
   ]
  },
  {
   "cell_type": "markdown",
   "metadata": {
    "colab_type": "text",
    "id": "-sRaygJ_PK1y"
   },
   "source": [
    "Age, Fare and cabin has missing values. we will see how to fill missing values next."
   ]
  },
  {
   "cell_type": "markdown",
   "metadata": {
    "colab_type": "text",
    "id": "TxkLgDvbPK1z"
   },
   "source": [
    "# Pandas Operations"
   ]
  },
  {
   "cell_type": "code",
   "execution_count": null,
   "metadata": {
    "colab": {
     "base_uri": "https://localhost:8080/",
     "height": 34
    },
    "colab_type": "code",
    "executionInfo": {
     "elapsed": 945,
     "status": "ok",
     "timestamp": 1575376982899,
     "user": {
      "displayName": "Anvesh Matta",
      "photoUrl": "https://lh3.googleusercontent.com/a-/AAuE7mAV8PpLg1UuE6lgDlmyD-ryvAMlqrN1UzlgtKthQw=s64",
      "userId": "17499112139080489183"
     },
     "user_tz": -330
    },
    "id": "ArKFSruJPK10",
    "outputId": "68505e2b-54bc-497b-dc3d-7cf4c1f0bfa4"
   },
   "outputs": [],
   "source": [
    "#Create a sample dataframe\n",
    "titanic_sample = titanic_train.copy()\n",
    "titanic_sample.shape"
   ]
  },
  {
   "cell_type": "code",
   "execution_count": null,
   "metadata": {
    "colab": {
     "base_uri": "https://localhost:8080/",
     "height": 122
    },
    "colab_type": "code",
    "executionInfo": {
     "elapsed": 1377,
     "status": "ok",
     "timestamp": 1575376994267,
     "user": {
      "displayName": "Anvesh Matta",
      "photoUrl": "https://lh3.googleusercontent.com/a-/AAuE7mAV8PpLg1UuE6lgDlmyD-ryvAMlqrN1UzlgtKthQw=s64",
      "userId": "17499112139080489183"
     },
     "user_tz": -330
    },
    "id": "vqau3XH-PK13",
    "outputId": "561be870-1ab5-4ffa-ef75-126ec123d493"
   },
   "outputs": [],
   "source": [
    "# select the 'Age' Series using bracket notation\n",
    "titanic_sample[_____] # fill here\n",
    "\n",
    "# or equivalently, use dot notation\n",
    "titanic_sample.Age.head()"
   ]
  },
  {
   "cell_type": "code",
   "execution_count": null,
   "metadata": {
    "colab": {
     "base_uri": "https://localhost:8080/",
     "height": 195
    },
    "colab_type": "code",
    "executionInfo": {
     "elapsed": 1103,
     "status": "ok",
     "timestamp": 1575376999837,
     "user": {
      "displayName": "Anvesh Matta",
      "photoUrl": "https://lh3.googleusercontent.com/a-/AAuE7mAV8PpLg1UuE6lgDlmyD-ryvAMlqrN1UzlgtKthQw=s64",
      "userId": "17499112139080489183"
     },
     "user_tz": -330
    },
    "id": "Wce40cQ0PK16",
    "outputId": "5f77e6f9-5dc2-466d-e717-7f12f417925d"
   },
   "outputs": [],
   "source": [
    "#selecting multiple features\n",
    "titanic_sample[['Age', 'Name']].head()"
   ]
  },
  {
   "cell_type": "code",
   "execution_count": null,
   "metadata": {
    "colab": {
     "base_uri": "https://localhost:8080/",
     "height": 140
    },
    "colab_type": "code",
    "executionInfo": {
     "elapsed": 1112,
     "status": "ok",
     "timestamp": 1575377245351,
     "user": {
      "displayName": "Anvesh Matta",
      "photoUrl": "https://lh3.googleusercontent.com/a-/AAuE7mAV8PpLg1UuE6lgDlmyD-ryvAMlqrN1UzlgtKthQw=s64",
      "userId": "17499112139080489183"
     },
     "user_tz": -330
    },
    "id": "klwxKgK-PK2A",
    "outputId": "e3aa115e-c507-4484-8a78-951dcb69b9f7"
   },
   "outputs": [],
   "source": [
    "#renaming a column in dataframe: Parch -> ParentChildren, SibSp -> SiblingSpouse\n",
    "print('before renaming',titanic_sample.columns)\n",
    "titanic_sample.rename(columns={'Parch':'ParentChildren', 'SibSp':_____}, inplace=True) # fill here\n",
    "titanic_sample.columns"
   ]
  },
  {
   "cell_type": "code",
   "execution_count": null,
   "metadata": {
    "colab": {
     "base_uri": "https://localhost:8080/",
     "height": 70
    },
    "colab_type": "code",
    "executionInfo": {
     "elapsed": 882,
     "status": "ok",
     "timestamp": 1575377246788,
     "user": {
      "displayName": "Anvesh Matta",
      "photoUrl": "https://lh3.googleusercontent.com/a-/AAuE7mAV8PpLg1UuE6lgDlmyD-ryvAMlqrN1UzlgtKthQw=s64",
      "userId": "17499112139080489183"
     },
     "user_tz": -330
    },
    "id": "svNWFTOyPK2D",
    "outputId": "294cd183-25e1-4960-c2d5-838bdf5693ae"
   },
   "outputs": [],
   "source": [
    "#remove column from a dataframe. Remove PassengerId column from dataframe\n",
    "titanic_sample.drop(['_____'],axis = 1, inplace = True) # fill here\n",
    "titanic_sample.columns"
   ]
  },
  {
   "cell_type": "code",
   "execution_count": null,
   "metadata": {
    "colab": {
     "base_uri": "https://localhost:8080/",
     "height": 195
    },
    "colab_type": "code",
    "executionInfo": {
     "elapsed": 1013,
     "status": "ok",
     "timestamp": 1575377255806,
     "user": {
      "displayName": "Anvesh Matta",
      "photoUrl": "https://lh3.googleusercontent.com/a-/AAuE7mAV8PpLg1UuE6lgDlmyD-ryvAMlqrN1UzlgtKthQw=s64",
      "userId": "17499112139080489183"
     },
     "user_tz": -330
    },
    "id": "M1azsJzsPK2G",
    "outputId": "e99b373a-4dd5-4e08-ae9e-a1d16e927f96"
   },
   "outputs": [],
   "source": [
    "#drop a row (temporarily)\n",
    "titanic_sample.drop(2, axis=0).head()"
   ]
  },
  {
   "cell_type": "code",
   "execution_count": null,
   "metadata": {
    "colab": {
     "base_uri": "https://localhost:8080/",
     "height": 195
    },
    "colab_type": "code",
    "executionInfo": {
     "elapsed": 1509,
     "status": "ok",
     "timestamp": 1575377259013,
     "user": {
      "displayName": "Anvesh Matta",
      "photoUrl": "https://lh3.googleusercontent.com/a-/AAuE7mAV8PpLg1UuE6lgDlmyD-ryvAMlqrN1UzlgtKthQw=s64",
      "userId": "17499112139080489183"
     },
     "user_tz": -330
    },
    "id": "7eK0SQbQPK2M",
    "outputId": "4cac7abd-23be-4d61-d0c2-1dd6fc3c8519"
   },
   "outputs": [],
   "source": [
    "# select age greater than 35\n",
    "titanic_sample[titanic_sample.Age > _____][['Name','Pclass']].head() # fill here"
   ]
  },
  {
   "cell_type": "code",
   "execution_count": null,
   "metadata": {
    "colab": {
     "base_uri": "https://localhost:8080/",
     "height": 195
    },
    "colab_type": "code",
    "executionInfo": {
     "elapsed": 1348,
     "status": "ok",
     "timestamp": 1575377259379,
     "user": {
      "displayName": "Anvesh Matta",
      "photoUrl": "https://lh3.googleusercontent.com/a-/AAuE7mAV8PpLg1UuE6lgDlmyD-ryvAMlqrN1UzlgtKthQw=s64",
      "userId": "17499112139080489183"
     },
     "user_tz": -330
    },
    "id": "wOaZngHePK2Q",
    "outputId": "72b246b0-2381-4878-9a95-79d9d94350be"
   },
   "outputs": [],
   "source": [
    "titanic_sample.loc[titanic_sample.Age > 35,['Name','Pclass']].head()"
   ]
  },
  {
   "cell_type": "code",
   "execution_count": null,
   "metadata": {
    "colab": {
     "base_uri": "https://localhost:8080/",
     "height": 106
    },
    "colab_type": "code",
    "executionInfo": {
     "elapsed": 876,
     "status": "ok",
     "timestamp": 1575377259382,
     "user": {
      "displayName": "Anvesh Matta",
      "photoUrl": "https://lh3.googleusercontent.com/a-/AAuE7mAV8PpLg1UuE6lgDlmyD-ryvAMlqrN1UzlgtKthQw=s64",
      "userId": "17499112139080489183"
     },
     "user_tz": -330
    },
    "id": "vd0sC2YhPK2V",
    "outputId": "d7a154af-caf5-400d-e679-f845a629352f"
   },
   "outputs": [],
   "source": [
    "titanic_sample.iloc[0:2, 0:4] # Exclusive of last row and column"
   ]
  },
  {
   "cell_type": "code",
   "execution_count": null,
   "metadata": {
    "colab": {
     "base_uri": "https://localhost:8080/",
     "height": 193
    },
    "colab_type": "code",
    "executionInfo": {
     "elapsed": 1201,
     "status": "ok",
     "timestamp": 1575377266860,
     "user": {
      "displayName": "Anvesh Matta",
      "photoUrl": "https://lh3.googleusercontent.com/a-/AAuE7mAV8PpLg1UuE6lgDlmyD-ryvAMlqrN1UzlgtKthQw=s64",
      "userId": "17499112139080489183"
     },
     "user_tz": -330
    },
    "id": "GkZKScELPK2Y",
    "outputId": "bc2b0071-6dba-40ed-ee5c-ccf6ef3e58fc"
   },
   "outputs": [],
   "source": [
    "#iterate throgh rows\n",
    "i = 0\n",
    "for index, row in titanic_sample.iterrows():\n",
    "    print (index,row.Age,row.Pclass)\n",
    "    i += 1\n",
    "    if i == 10:\n",
    "        break"
   ]
  },
  {
   "cell_type": "code",
   "execution_count": null,
   "metadata": {
    "colab": {
     "base_uri": "https://localhost:8080/",
     "height": 105
    },
    "colab_type": "code",
    "executionInfo": {
     "elapsed": 909,
     "status": "ok",
     "timestamp": 1575377268555,
     "user": {
      "displayName": "Anvesh Matta",
      "photoUrl": "https://lh3.googleusercontent.com/a-/AAuE7mAV8PpLg1UuE6lgDlmyD-ryvAMlqrN1UzlgtKthQw=s64",
      "userId": "17499112139080489183"
     },
     "user_tz": -330
    },
    "id": "qqdbWPeQPK2a",
    "outputId": "1ca1fa68-8ebc-4163-aaca-517864286965"
   },
   "outputs": [],
   "source": [
    "#calculate the mean age for each pclass category\n",
    "titanic_sample.groupby(_____).Age.mean() # fill here"
   ]
  },
  {
   "cell_type": "code",
   "execution_count": null,
   "metadata": {
    "colab": {
     "base_uri": "https://localhost:8080/",
     "height": 166
    },
    "colab_type": "code",
    "executionInfo": {
     "elapsed": 976,
     "status": "ok",
     "timestamp": 1575377269064,
     "user": {
      "displayName": "Anvesh Matta",
      "photoUrl": "https://lh3.googleusercontent.com/a-/AAuE7mAV8PpLg1UuE6lgDlmyD-ryvAMlqrN1UzlgtKthQw=s64",
      "userId": "17499112139080489183"
     },
     "user_tz": -330
    },
    "id": "bJJrNTgAPK2d",
    "outputId": "d37739c0-35d6-4890-b10b-5e3dd04a2ccb"
   },
   "outputs": [],
   "source": [
    "titanic_sample.groupby('Pclass').Age.agg(['count', 'mean', 'min', 'max'])"
   ]
  },
  {
   "cell_type": "code",
   "execution_count": null,
   "metadata": {
    "colab": {
     "base_uri": "https://localhost:8080/",
     "height": 70
    },
    "colab_type": "code",
    "executionInfo": {
     "elapsed": 984,
     "status": "ok",
     "timestamp": 1575377269529,
     "user": {
      "displayName": "Anvesh Matta",
      "photoUrl": "https://lh3.googleusercontent.com/a-/AAuE7mAV8PpLg1UuE6lgDlmyD-ryvAMlqrN1UzlgtKthQw=s64",
      "userId": "17499112139080489183"
     },
     "user_tz": -330
    },
    "id": "kDg5Gj7CPK2g",
    "outputId": "1b18bc6f-e7e5-41cc-9247-b8029ecda968"
   },
   "outputs": [],
   "source": [
    "# count how many times each value in the Series/Feature occurs\n",
    "titanic_sample.Gender.value_counts()"
   ]
  },
  {
   "cell_type": "code",
   "execution_count": null,
   "metadata": {
    "colab": {
     "base_uri": "https://localhost:8080/",
     "height": 70
    },
    "colab_type": "code",
    "executionInfo": {
     "elapsed": 1202,
     "status": "ok",
     "timestamp": 1575377270228,
     "user": {
      "displayName": "Anvesh Matta",
      "photoUrl": "https://lh3.googleusercontent.com/a-/AAuE7mAV8PpLg1UuE6lgDlmyD-ryvAMlqrN1UzlgtKthQw=s64",
      "userId": "17499112139080489183"
     },
     "user_tz": -330
    },
    "id": "as_3qRPkPK2i",
    "outputId": "0617aa5f-11d9-4f90-f49c-203bcda0ea9a"
   },
   "outputs": [],
   "source": [
    "# Sorting series by count\n",
    "titanic_sample.Gender.value_counts().sort_values()"
   ]
  },
  {
   "cell_type": "code",
   "execution_count": null,
   "metadata": {
    "colab": {
     "base_uri": "https://localhost:8080/",
     "height": 70
    },
    "colab_type": "code",
    "executionInfo": {
     "elapsed": 795,
     "status": "ok",
     "timestamp": 1575377270842,
     "user": {
      "displayName": "Anvesh Matta",
      "photoUrl": "https://lh3.googleusercontent.com/a-/AAuE7mAV8PpLg1UuE6lgDlmyD-ryvAMlqrN1UzlgtKthQw=s64",
      "userId": "17499112139080489183"
     },
     "user_tz": -330
    },
    "id": "-0oYm3XnPK2l",
    "outputId": "b33390d5-861f-4806-f2f2-907b379f4bcc"
   },
   "outputs": [],
   "source": [
    "# display percentages instead of raw counts\n",
    "titanic_sample.Gender.value_counts(normalize= True)"
   ]
  },
  {
   "cell_type": "code",
   "execution_count": null,
   "metadata": {
    "colab": {
     "base_uri": "https://localhost:8080/",
     "height": 34
    },
    "colab_type": "code",
    "executionInfo": {
     "elapsed": 716,
     "status": "ok",
     "timestamp": 1575377271211,
     "user": {
      "displayName": "Anvesh Matta",
      "photoUrl": "https://lh3.googleusercontent.com/a-/AAuE7mAV8PpLg1UuE6lgDlmyD-ryvAMlqrN1UzlgtKthQw=s64",
      "userId": "17499112139080489183"
     },
     "user_tz": -330
    },
    "id": "yl3q5rxoPK2n",
    "outputId": "3008c424-bc9e-4109-bc6a-9bd4ada50415"
   },
   "outputs": [],
   "source": [
    "#find unique values\n",
    "titanic_sample.Pclass.unique()"
   ]
  },
  {
   "cell_type": "code",
   "execution_count": null,
   "metadata": {
    "colab": {
     "base_uri": "https://localhost:8080/",
     "height": 281
    },
    "colab_type": "code",
    "executionInfo": {
     "elapsed": 2324,
     "status": "ok",
     "timestamp": 1575377273495,
     "user": {
      "displayName": "Anvesh Matta",
      "photoUrl": "https://lh3.googleusercontent.com/a-/AAuE7mAV8PpLg1UuE6lgDlmyD-ryvAMlqrN1UzlgtKthQw=s64",
      "userId": "17499112139080489183"
     },
     "user_tz": -330
    },
    "id": "lSbATZ3mPK2s",
    "outputId": "41a32fca-5bf5-4a86-9bf6-61cd7625ffb9"
   },
   "outputs": [],
   "source": [
    "# Convert a fetaure into categorical from continuous\n",
    "titanic_sample['Pclass'] = titanic_sample['Pclass'].astype('category')\n",
    "titanic_sample.info()"
   ]
  },
  {
   "cell_type": "markdown",
   "metadata": {
    "colab_type": "text",
    "id": "I3vvgDSZPK2v"
   },
   "source": [
    "# EDA (Exploratory Data Analysis)"
   ]
  },
  {
   "cell_type": "code",
   "execution_count": null,
   "metadata": {
    "colab": {},
    "colab_type": "code",
    "id": "sWN6ow0dPK2w"
   },
   "outputs": [],
   "source": [
    "# this line allows ipython notebook to display the plots in the output\n",
    "%matplotlib inline"
   ]
  },
  {
   "cell_type": "code",
   "execution_count": null,
   "metadata": {
    "colab": {
     "base_uri": "https://localhost:8080/",
     "height": 298
    },
    "colab_type": "code",
    "executionInfo": {
     "elapsed": 1330,
     "status": "ok",
     "timestamp": 1575377280468,
     "user": {
      "displayName": "Anvesh Matta",
      "photoUrl": "https://lh3.googleusercontent.com/a-/AAuE7mAV8PpLg1UuE6lgDlmyD-ryvAMlqrN1UzlgtKthQw=s64",
      "userId": "17499112139080489183"
     },
     "user_tz": -330
    },
    "id": "heNK9-YAPK23",
    "outputId": "f12614d7-ae51-4383-b3b4-126bae6bb165"
   },
   "outputs": [],
   "source": [
    "sns.countplot(x='Gender', data=titanic_train)"
   ]
  },
  {
   "cell_type": "markdown",
   "metadata": {
    "colab_type": "text",
    "id": "Njm8KJbHPK27"
   },
   "source": [
    "- Gives the graphical representation of value_counts that gives the count of each unique values in a feature\n",
    "- Bar plot - Gives count of the different categories in the categorical feature"
   ]
  },
  {
   "cell_type": "markdown",
   "metadata": {
    "colab_type": "text",
    "id": "HZJ7JLSUPK28"
   },
   "source": [
    "# Pclass vs Fare"
   ]
  },
  {
   "cell_type": "code",
   "execution_count": null,
   "metadata": {
    "colab": {
     "base_uri": "https://localhost:8080/",
     "height": 279
    },
    "colab_type": "code",
    "executionInfo": {
     "elapsed": 1686,
     "status": "ok",
     "timestamp": 1575377283425,
     "user": {
      "displayName": "Anvesh Matta",
      "photoUrl": "https://lh3.googleusercontent.com/a-/AAuE7mAV8PpLg1UuE6lgDlmyD-ryvAMlqrN1UzlgtKthQw=s64",
      "userId": "17499112139080489183"
     },
     "user_tz": -330
    },
    "id": "5fs0OHxfPK29",
    "outputId": "b002e673-ebda-4239-bc53-0e91c885194d"
   },
   "outputs": [],
   "source": [
    "ax = sns.boxplot(x=\"Pclass\", y=\"Fare\", hue=\"_____\", data=titanic_train) # fill here\n",
    "ax.set_yscale('log')"
   ]
  },
  {
   "cell_type": "markdown",
   "metadata": {
    "colab_type": "text",
    "id": "rXkSZG3KPK3C"
   },
   "source": [
    "- Fares decrease as the Pclass increases"
   ]
  },
  {
   "cell_type": "markdown",
   "metadata": {
    "colab_type": "text",
    "id": "utpAHiI1PK3D"
   },
   "source": [
    "# Embarked vs Fare"
   ]
  },
  {
   "cell_type": "code",
   "execution_count": null,
   "metadata": {
    "colab": {
     "base_uri": "https://localhost:8080/",
     "height": 279
    },
    "colab_type": "code",
    "executionInfo": {
     "elapsed": 1500,
     "status": "ok",
     "timestamp": 1575377286164,
     "user": {
      "displayName": "Anvesh Matta",
      "photoUrl": "https://lh3.googleusercontent.com/a-/AAuE7mAV8PpLg1UuE6lgDlmyD-ryvAMlqrN1UzlgtKthQw=s64",
      "userId": "17499112139080489183"
     },
     "user_tz": -330
    },
    "id": "TODWQteuPK3F",
    "outputId": "7714502b-f46a-433d-c9f5-48455c4dbfac"
   },
   "outputs": [],
   "source": [
    "ax = sns.boxplot(x=\"Embarked\", y=\"Fare\", hue=\"Survived\", data=titanic_train)\n",
    "ax.set_yscale('log')"
   ]
  },
  {
   "cell_type": "markdown",
   "metadata": {
    "colab_type": "text",
    "id": "VUjUMBG3PK3I"
   },
   "source": [
    "- Survival rates for passengers embarked at S and C who paid higher fare seems to be more"
   ]
  },
  {
   "cell_type": "markdown",
   "metadata": {
    "colab_type": "text",
    "id": "v-ChS87DPK3J"
   },
   "source": [
    "# Fare vs survival rates"
   ]
  },
  {
   "cell_type": "code",
   "execution_count": null,
   "metadata": {
    "colab": {},
    "colab_type": "code",
    "id": "DLr23DjtPK3K"
   },
   "outputs": [],
   "source": [
    "#making fares into categories of ranges(<=7.91,[7.91,14.454],[14.454,31],[31,513])\n",
    "titanic_train['Fare_cat']=0\n",
    "titanic_train.loc[titanic_train['Fare']<=7.91,'Fare_cat']=0\n",
    "titanic_train.loc[(titanic_train['Fare']>7.91)&(titanic_train['Fare']<=14.454),'Fare_cat']=1\n",
    "titanic_train.loc[(titanic_train['Fare']>14.454)&(titanic_train['Fare']<=31),'Fare_cat']=2\n",
    "titanic_train.loc[(titanic_train['Fare']>_____)&(titanic_train['Fare']<=_____),'Fare_cat']=3 # fill here"
   ]
  },
  {
   "cell_type": "code",
   "execution_count": null,
   "metadata": {
    "colab": {
     "base_uri": "https://localhost:8080/",
     "height": 424
    },
    "colab_type": "code",
    "executionInfo": {
     "elapsed": 2394,
     "status": "ok",
     "timestamp": 1575377291528,
     "user": {
      "displayName": "Anvesh Matta",
      "photoUrl": "https://lh3.googleusercontent.com/a-/AAuE7mAV8PpLg1UuE6lgDlmyD-ryvAMlqrN1UzlgtKthQw=s64",
      "userId": "17499112139080489183"
     },
     "user_tz": -330
    },
    "id": "VPIXDYS6PK3N",
    "outputId": "c7fb79a4-fdd7-48b9-f437-c0fdcc892ab7"
   },
   "outputs": [],
   "source": [
    "sns.factorplot('Fare_cat','Survived',data=titanic_train,hue='Gender',aspect=2.5)\n",
    "#aspect-> signifies the width of the plot\n",
    "plt.show()"
   ]
  },
  {
   "cell_type": "markdown",
   "metadata": {
    "colab_type": "text",
    "id": "FKMNKDd9PK3P"
   },
   "source": [
    "- Clearly, as the Fare_cat increases, the survival chances increases\n",
    "- Females who have paid higher fare are mostly survived but it's not the same case with Males"
   ]
  },
  {
   "cell_type": "markdown",
   "metadata": {
    "colab_type": "text",
    "id": "UQZe3Mu9PK3T"
   },
   "source": [
    "## Survival Rates "
   ]
  },
  {
   "cell_type": "code",
   "execution_count": null,
   "metadata": {
    "colab": {
     "base_uri": "https://localhost:8080/",
     "height": 136
    },
    "colab_type": "code",
    "executionInfo": {
     "elapsed": 901,
     "status": "ok",
     "timestamp": 1575377297396,
     "user": {
      "displayName": "Anvesh Matta",
      "photoUrl": "https://lh3.googleusercontent.com/a-/AAuE7mAV8PpLg1UuE6lgDlmyD-ryvAMlqrN1UzlgtKthQw=s64",
      "userId": "17499112139080489183"
     },
     "user_tz": -330
    },
    "id": "RJiL1KQKPK3U",
    "outputId": "1f9e71a6-11c9-44e3-a648-210d3982e27b"
   },
   "outputs": [],
   "source": [
    "titanic_train[['Pclass', 'Survived']].groupby(['Pclass'], as_index=False).mean().sort_values(by='Survived', ascending=False)"
   ]
  },
  {
   "cell_type": "code",
   "execution_count": null,
   "metadata": {
    "colab": {
     "base_uri": "https://localhost:8080/",
     "height": 424
    },
    "colab_type": "code",
    "executionInfo": {
     "elapsed": 1600,
     "status": "ok",
     "timestamp": 1575377299522,
     "user": {
      "displayName": "Anvesh Matta",
      "photoUrl": "https://lh3.googleusercontent.com/a-/AAuE7mAV8PpLg1UuE6lgDlmyD-ryvAMlqrN1UzlgtKthQw=s64",
      "userId": "17499112139080489183"
     },
     "user_tz": -330
    },
    "id": "TmR2p370PK3a",
    "outputId": "a421ac0f-e62a-4ce0-e6d2-1ed0ab782a24"
   },
   "outputs": [],
   "source": [
    "sns._____(x='Pclass',y='Survived', data=titanic_train) # fill here\n",
    "#By default factorplot shows point plot\n",
    "#They are particularly good at showing interactions: \n",
    "#i.e.,how the relationship between levels of one categorical variable changes across levels of a second categorical variable\n",
    "plt.show()"
   ]
  },
  {
   "cell_type": "markdown",
   "metadata": {
    "colab_type": "text",
    "id": "mt8dj4jLPK3d"
   },
   "source": [
    "- Survival rate is more for class 1 passengers\n",
    "- Survival rate decreases with Pclass"
   ]
  },
  {
   "cell_type": "markdown",
   "metadata": {
    "colab_type": "text",
    "id": "5OJTw4oHPK3e"
   },
   "source": [
    "## Survival rate based on gender"
   ]
  },
  {
   "cell_type": "code",
   "execution_count": null,
   "metadata": {
    "colab": {
     "base_uri": "https://localhost:8080/",
     "height": 122
    },
    "colab_type": "code",
    "executionInfo": {
     "elapsed": 661,
     "status": "ok",
     "timestamp": 1575377301004,
     "user": {
      "displayName": "Anvesh Matta",
      "photoUrl": "https://lh3.googleusercontent.com/a-/AAuE7mAV8PpLg1UuE6lgDlmyD-ryvAMlqrN1UzlgtKthQw=s64",
      "userId": "17499112139080489183"
     },
     "user_tz": -330
    },
    "id": "oucfDz38PK3g",
    "outputId": "99283a50-f8e9-423b-d6ea-655d213b83a6"
   },
   "outputs": [],
   "source": [
    "titanic_train.groupby(['Survived','Gender'])['Survived'].count()"
   ]
  },
  {
   "cell_type": "code",
   "execution_count": null,
   "metadata": {
    "colab": {
     "base_uri": "https://localhost:8080/",
     "height": 424
    },
    "colab_type": "code",
    "executionInfo": {
     "elapsed": 1514,
     "status": "ok",
     "timestamp": 1575377302214,
     "user": {
      "displayName": "Anvesh Matta",
      "photoUrl": "https://lh3.googleusercontent.com/a-/AAuE7mAV8PpLg1UuE6lgDlmyD-ryvAMlqrN1UzlgtKthQw=s64",
      "userId": "17499112139080489183"
     },
     "user_tz": -330
    },
    "id": "EMohPc2_PK3j",
    "outputId": "8020cd40-ed0f-4620-8c9e-2462292aa7ff"
   },
   "outputs": [],
   "source": [
    "sns.factorplot(x='Gender', col='Survived', kind='count', data=titanic_train)"
   ]
  },
  {
   "cell_type": "code",
   "execution_count": null,
   "metadata": {
    "colab": {
     "base_uri": "https://localhost:8080/",
     "height": 52
    },
    "colab_type": "code",
    "executionInfo": {
     "elapsed": 1255,
     "status": "ok",
     "timestamp": 1575377302216,
     "user": {
      "displayName": "Anvesh Matta",
      "photoUrl": "https://lh3.googleusercontent.com/a-/AAuE7mAV8PpLg1UuE6lgDlmyD-ryvAMlqrN1UzlgtKthQw=s64",
      "userId": "17499112139080489183"
     },
     "user_tz": -330
    },
    "id": "O5s0CfwMPK3n",
    "outputId": "a5fcf65a-8d68-46aa-b142-83360d3b02fc"
   },
   "outputs": [],
   "source": [
    "print(\"% of women survived: \" , titanic_train[titanic_train.Gender == 'female'].Survived.sum()/titanic_train[titanic_train.Gender == 'female'].Survived.count())\n",
    "print(\"% of men survived:   \" , titanic_train[titanic_train.Gender == 'male'].Survived.sum()/titanic_train[titanic_train.Gender == 'male'].Survived.count())"
   ]
  },
  {
   "cell_type": "markdown",
   "metadata": {
    "colab_type": "text",
    "id": "xLv0r55bPK3u"
   },
   "source": [
    " - females are most likely to survive than males\n",
    " - 74% of women survived while only 19% of men survived (233 out of 314 females survived while only 109 males out of 577 survived)"
   ]
  },
  {
   "cell_type": "code",
   "execution_count": null,
   "metadata": {
    "colab": {
     "base_uri": "https://localhost:8080/",
     "height": 442
    },
    "colab_type": "code",
    "executionInfo": {
     "elapsed": 1902,
     "status": "ok",
     "timestamp": 1575377304032,
     "user": {
      "displayName": "Anvesh Matta",
      "photoUrl": "https://lh3.googleusercontent.com/a-/AAuE7mAV8PpLg1UuE6lgDlmyD-ryvAMlqrN1UzlgtKthQw=s64",
      "userId": "17499112139080489183"
     },
     "user_tz": -330
    },
    "id": "y3Gv8lDUPK3v",
    "outputId": "06f8e9d8-a4a0-485a-e561-be4d12570129"
   },
   "outputs": [],
   "source": [
    "sns.factorplot(x='Gender',y='Survived',data=titanic_train)"
   ]
  },
  {
   "cell_type": "markdown",
   "metadata": {
    "colab_type": "text",
    "id": "SRjUJxaRPK3x"
   },
   "source": [
    "- Most of the females survived (above 70%) & most of the males dies (below 20%)"
   ]
  },
  {
   "cell_type": "code",
   "execution_count": null,
   "metadata": {
    "colab": {
     "base_uri": "https://localhost:8080/",
     "height": 424
    },
    "colab_type": "code",
    "executionInfo": {
     "elapsed": 2260,
     "status": "ok",
     "timestamp": 1575377306446,
     "user": {
      "displayName": "Anvesh Matta",
      "photoUrl": "https://lh3.googleusercontent.com/a-/AAuE7mAV8PpLg1UuE6lgDlmyD-ryvAMlqrN1UzlgtKthQw=s64",
      "userId": "17499112139080489183"
     },
     "user_tz": -330
    },
    "id": "hOJiR4yGPK3y",
    "outputId": "3135dfd9-db6e-4484-f6d7-303c69009562"
   },
   "outputs": [],
   "source": [
    "sns.factorplot(x='Pclass',y='Survived', hue='Gender',data=titanic_train)\n",
    "#adding the parameter 'hue' helps in comparing the plots based on the value of hue, here we gave 'Gender' as a value in hue and hence we got plot to compare the survival rates for each gender\n",
    "plt._____() # fill here"
   ]
  },
  {
   "cell_type": "markdown",
   "metadata": {
    "colab_type": "text",
    "id": "omch21jWPK30"
   },
   "source": [
    "- Almost all women in Pclass 1 and 2 survived and nearly all men in Pclass 2 and 3 died"
   ]
  },
  {
   "cell_type": "markdown",
   "metadata": {
    "colab_type": "text",
    "id": "gnPsFcpHPK31"
   },
   "source": [
    "## Survival rate based on embarked(boarding) place"
   ]
  },
  {
   "cell_type": "code",
   "execution_count": null,
   "metadata": {
    "colab": {
     "base_uri": "https://localhost:8080/",
     "height": 442
    },
    "colab_type": "code",
    "executionInfo": {
     "elapsed": 1706,
     "status": "ok",
     "timestamp": 1575377308541,
     "user": {
      "displayName": "Anvesh Matta",
      "photoUrl": "https://lh3.googleusercontent.com/a-/AAuE7mAV8PpLg1UuE6lgDlmyD-ryvAMlqrN1UzlgtKthQw=s64",
      "userId": "17499112139080489183"
     },
     "user_tz": -330
    },
    "id": "oJxe3XxNPK31",
    "outputId": "67f0df51-f020-4e82-b3b5-6de763783f07"
   },
   "outputs": [],
   "source": [
    "sns.factorplot(x='Survived', col='Embarked', kind='count', data=titanic_train)"
   ]
  },
  {
   "cell_type": "markdown",
   "metadata": {
    "colab_type": "text",
    "id": "027KFzxoPK34"
   },
   "source": [
    "- Most of the people died are Embarked on S"
   ]
  },
  {
   "cell_type": "code",
   "execution_count": null,
   "metadata": {
    "colab": {
     "base_uri": "https://localhost:8080/",
     "height": 477
    },
    "colab_type": "code",
    "executionInfo": {
     "elapsed": 1364,
     "status": "ok",
     "timestamp": 1575377310488,
     "user": {
      "displayName": "Anvesh Matta",
      "photoUrl": "https://lh3.googleusercontent.com/a-/AAuE7mAV8PpLg1UuE6lgDlmyD-ryvAMlqrN1UzlgtKthQw=s64",
      "userId": "17499112139080489183"
     },
     "user_tz": -330
    },
    "id": "2JjJAiY8PK35",
    "outputId": "78a80bbb-4bcd-4f94-a8c7-1e07dee430d5"
   },
   "outputs": [],
   "source": [
    "g=sns.factorplot('Embarked','Survived', data=titanic_train,size=5)\n",
    "g.set_xticklabels([\"Southampton(S)\", \"Cherbourg(C)\", \"Queenstown(Q)\"])"
   ]
  },
  {
   "cell_type": "markdown",
   "metadata": {
    "colab_type": "text",
    "id": "OaTD-svBPK38"
   },
   "source": [
    "- Most people embarked on C survived"
   ]
  },
  {
   "cell_type": "code",
   "execution_count": null,
   "metadata": {
    "colab": {
     "base_uri": "https://localhost:8080/",
     "height": 442
    },
    "colab_type": "code",
    "executionInfo": {
     "elapsed": 2054,
     "status": "ok",
     "timestamp": 1575377313585,
     "user": {
      "displayName": "Anvesh Matta",
      "photoUrl": "https://lh3.googleusercontent.com/a-/AAuE7mAV8PpLg1UuE6lgDlmyD-ryvAMlqrN1UzlgtKthQw=s64",
      "userId": "17499112139080489183"
     },
     "user_tz": -330
    },
    "id": "0VQU9W5IPK39",
    "outputId": "ad7823dd-8a4d-43a1-ae43-428b310e3763",
    "scrolled": true
   },
   "outputs": [],
   "source": [
    "sns.factorplot('Embarked','Survived', hue= 'Gender', data=titanic_train)"
   ]
  },
  {
   "cell_type": "markdown",
   "metadata": {
    "colab_type": "text",
    "id": "X95NK1j7PK3_"
   },
   "source": [
    "- Approximately 85% women embarked at C survived.\n"
   ]
  },
  {
   "cell_type": "markdown",
   "metadata": {
    "colab_type": "text",
    "id": "Q1D5n8phPK4A"
   },
   "source": [
    "## Embarked, Pclass and Gender vs Survival"
   ]
  },
  {
   "cell_type": "code",
   "execution_count": null,
   "metadata": {
    "colab": {
     "base_uri": "https://localhost:8080/",
     "height": 424
    },
    "colab_type": "code",
    "executionInfo": {
     "elapsed": 3003,
     "status": "ok",
     "timestamp": 1575377317268,
     "user": {
      "displayName": "Anvesh Matta",
      "photoUrl": "https://lh3.googleusercontent.com/a-/AAuE7mAV8PpLg1UuE6lgDlmyD-ryvAMlqrN1UzlgtKthQw=s64",
      "userId": "17499112139080489183"
     },
     "user_tz": -330
    },
    "id": "D2-vAsJSPK4B",
    "outputId": "7d5a75d8-34ed-4b9a-9aff-6455b500b84a",
    "scrolled": false
   },
   "outputs": [],
   "source": [
    "sns.factorplot('Embarked','Survived', col='Pclass', hue= 'Gender', data=titanic_train,ci=False)\n",
    "#separate plots for embarked\n",
    "plt.show()"
   ]
  },
  {
   "cell_type": "markdown",
   "metadata": {
    "colab_type": "text",
    "id": "AXiyiGSrPK4D"
   },
   "source": [
    "- Practically all women of Pclass 2 that embarked in C and Q survived, also nearly all women of Pclass 1 survived.\n",
    "- All men of Pclass 1 and 2 embarked at Q died, survival rate for men in Pclass 2 and 3 is always below 0.2\n",
    "- For the remaining men in Pclass 1 that embarked at S and C, survival rate is approx. 0.4"
   ]
  },
  {
   "cell_type": "code",
   "execution_count": null,
   "metadata": {
    "colab": {
     "base_uri": "https://localhost:8080/",
     "height": 776
    },
    "colab_type": "code",
    "executionInfo": {
     "elapsed": 4657,
     "status": "ok",
     "timestamp": 1575377319652,
     "user": {
      "displayName": "Anvesh Matta",
      "photoUrl": "https://lh3.googleusercontent.com/a-/AAuE7mAV8PpLg1UuE6lgDlmyD-ryvAMlqrN1UzlgtKthQw=s64",
      "userId": "17499112139080489183"
     },
     "user_tz": -330
    },
    "id": "Cy_GZUo2PK4E",
    "outputId": "8f2f81e4-60a7-46cd-cfa0-5dd000398db7"
   },
   "outputs": [],
   "source": [
    "_ = sns.factorplot('Pclass', 'Survived', hue='Gender', col = 'Embarked', data=titanic_train)\n",
    "#separate plots for Pclass\n",
    "_ = sns.factorplot('Pclass', 'Survived', col = 'Embarked', data=titanic_train)"
   ]
  },
  {
   "cell_type": "markdown",
   "metadata": {
    "colab_type": "text",
    "id": "MNwfOMatPK4G"
   },
   "source": [
    "- As noticed already before, the class 1 passengers had a higher survival rate.\n",
    "- Most of the women who died were from the 3rd class.\n",
    "- Embarked at Q as a 3rd class gave you slighly better survival chances than embarked in S for the same class."
   ]
  },
  {
   "cell_type": "markdown",
   "metadata": {
    "colab_type": "text",
    "id": "Q4VTzjjEPK4H"
   },
   "source": [
    "# Embarked vs Pclass (categorical vs categorical)"
   ]
  },
  {
   "cell_type": "code",
   "execution_count": null,
   "metadata": {
    "colab": {
     "base_uri": "https://localhost:8080/",
     "height": 382
    },
    "colab_type": "code",
    "executionInfo": {
     "elapsed": 992,
     "status": "ok",
     "timestamp": 1575377322570,
     "user": {
      "displayName": "Anvesh Matta",
      "photoUrl": "https://lh3.googleusercontent.com/a-/AAuE7mAV8PpLg1UuE6lgDlmyD-ryvAMlqrN1UzlgtKthQw=s64",
      "userId": "17499112139080489183"
     },
     "user_tz": -330
    },
    "id": "QLE3Nd4XPK4H",
    "outputId": "4c3dcb1d-469c-4d6f-8042-1a65c02f78b9"
   },
   "outputs": [],
   "source": [
    "tab = pd.crosstab(titanic_train['Embarked'],titanic_train['Pclass'])\n",
    "print(tab)\n",
    "tab_prop = tab.div(tab.sum(1).astype(float), axis=0)\n",
    "tab_prop.plot(kind=\"bar\", stacked=True)"
   ]
  },
  {
   "cell_type": "markdown",
   "metadata": {
    "colab_type": "text",
    "id": "3CKiPuxUPK4K"
   },
   "source": [
    "## Age Distribution"
   ]
  },
  {
   "cell_type": "code",
   "execution_count": null,
   "metadata": {
    "colab": {
     "base_uri": "https://localhost:8080/",
     "height": 404
    },
    "colab_type": "code",
    "executionInfo": {
     "elapsed": 1210,
     "status": "ok",
     "timestamp": 1575377324514,
     "user": {
      "displayName": "Anvesh Matta",
      "photoUrl": "https://lh3.googleusercontent.com/a-/AAuE7mAV8PpLg1UuE6lgDlmyD-ryvAMlqrN1UzlgtKthQw=s64",
      "userId": "17499112139080489183"
     },
     "user_tz": -330
    },
    "id": "MI_Pc3lXPK4L",
    "outputId": "ead4a92c-0e58-46d4-f1d0-c79716c75e8e",
    "scrolled": false
   },
   "outputs": [],
   "source": [
    "age_counts = titanic_train[['Age', 'PassengerId']].groupby('Age').count().reset_index()\n",
    "age_counts.columns = ['AGE', 'FREQUENCY']\n",
    "plt.figure(figsize=(12,6))\n",
    "plt.bar(age_counts.AGE, age_counts.FREQUENCY)\n",
    "plt.title('Bar Plot on Ages (AGE > 1 and AGE < 90)')\n",
    "plt.xlabel('Age')\n",
    "plt.ylabel('_____') # fill here\n",
    "plt.show()"
   ]
  },
  {
   "cell_type": "markdown",
   "metadata": {
    "colab_type": "text",
    "id": "y8LYX1poPK4Q"
   },
   "source": [
    "- Most of the passengers are aged between 18 and 36"
   ]
  },
  {
   "cell_type": "markdown",
   "metadata": {
    "colab_type": "text",
    "id": "nxwhkBnyPK4Q"
   },
   "source": [
    "## Survival based on Age"
   ]
  },
  {
   "cell_type": "code",
   "execution_count": null,
   "metadata": {
    "colab": {
     "base_uri": "https://localhost:8080/",
     "height": 242
    },
    "colab_type": "code",
    "executionInfo": {
     "elapsed": 1605,
     "status": "ok",
     "timestamp": 1575377327436,
     "user": {
      "displayName": "Anvesh Matta",
      "photoUrl": "https://lh3.googleusercontent.com/a-/AAuE7mAV8PpLg1UuE6lgDlmyD-ryvAMlqrN1UzlgtKthQw=s64",
      "userId": "17499112139080489183"
     },
     "user_tz": -330
    },
    "id": "opO_VezlPK4S",
    "outputId": "87627859-7217-4f0d-e9c2-d49495414241"
   },
   "outputs": [],
   "source": [
    "facet = sns.FacetGrid(titanic_train, hue=\"Survived\",aspect=4)\n",
    "facet.map(sns.kdeplot,'Age',shade= True)\n",
    "facet.set(xlim=(0, titanic_train['Age'].max()))\n",
    "facet.add_legend()"
   ]
  },
  {
   "cell_type": "code",
   "execution_count": null,
   "metadata": {
    "colab": {
     "base_uri": "https://localhost:8080/",
     "height": 442
    },
    "colab_type": "code",
    "executionInfo": {
     "elapsed": 1327,
     "status": "ok",
     "timestamp": 1575377327792,
     "user": {
      "displayName": "Anvesh Matta",
      "photoUrl": "https://lh3.googleusercontent.com/a-/AAuE7mAV8PpLg1UuE6lgDlmyD-ryvAMlqrN1UzlgtKthQw=s64",
      "userId": "17499112139080489183"
     },
     "user_tz": -330
    },
    "id": "0JgylXU2PK4V",
    "outputId": "f941122c-73e0-4f1d-bfbf-a1e0ac986707"
   },
   "outputs": [],
   "source": [
    "g = sns.FacetGrid(titanic_train, col='Survived',size=5)\n",
    "g.map(plt.hist, 'Age', bins=20)"
   ]
  },
  {
   "cell_type": "markdown",
   "metadata": {
    "colab_type": "text",
    "id": "bPxFeaWmPK4X"
   },
   "source": [
    "- Infants (Age <=4) had high survival rate\n",
    "- Oldest passengers (Age = 80) survived\n",
    "- Large number of 15-25 year olds did not survive\n",
    "- Most passengers are in 15-35 age range"
   ]
  },
  {
   "cell_type": "code",
   "execution_count": null,
   "metadata": {
    "colab": {
     "base_uri": "https://localhost:8080/",
     "height": 386
    },
    "colab_type": "code",
    "executionInfo": {
     "elapsed": 1679,
     "status": "ok",
     "timestamp": 1575377330146,
     "user": {
      "displayName": "Anvesh Matta",
      "photoUrl": "https://lh3.googleusercontent.com/a-/AAuE7mAV8PpLg1UuE6lgDlmyD-ryvAMlqrN1UzlgtKthQw=s64",
      "userId": "17499112139080489183"
     },
     "user_tz": -330
    },
    "id": "J-phD6SxPK4X",
    "outputId": "4dc39dc7-218b-4a0f-9dbc-9edf7c1e74b2"
   },
   "outputs": [],
   "source": [
    "fig, axes = plt.subplots(nrows=1, ncols=2,figsize=(15,5))\n",
    "#create 1 row and 2 columns (2 subplots)\n",
    "females = titanic_train[titanic_train['Gender']=='female']\n",
    "males = titanic_train[titanic_train['Gender']=='male']\n",
    "\n",
    "ax = sns.distplot(females[females['Survived']==1].Age.dropna(), bins=30, ax = axes[0], kde =False)\n",
    "ax = sns.distplot(females[females['Survived']==0].Age.dropna(), bins=30, ax = axes[0], kde =False)\n",
    "#plot both on the same axes(axes[0])\n",
    "ax.legend()\n",
    "ax.set_title('_____') # fill here\n",
    "ax = sns.distplot(males[males['Survived']==1].Age.dropna(), bins=30, ax = axes[1], kde = False)\n",
    "ax = sns.distplot(males[males['Survived']==0].Age.dropna(), bins=30, ax = axes[1], kde = False)\n",
    "#plot both on axes[1]\n",
    "ax.legend()\n",
    "_ = ax.set_title('Male')"
   ]
  },
  {
   "cell_type": "markdown",
   "metadata": {
    "colab_type": "text",
    "id": "woPv8mptPK4a"
   },
   "source": [
    "- Most of the Females with age 18-38 survived.\n",
    "- Most of the Males with age 18-35 died."
   ]
  },
  {
   "cell_type": "markdown",
   "metadata": {
    "colab_type": "text",
    "id": "nVVxcFjMPK4b"
   },
   "source": [
    "# Survival Rate vs Number of family members aboard"
   ]
  },
  {
   "cell_type": "code",
   "execution_count": null,
   "metadata": {
    "colab": {
     "base_uri": "https://localhost:8080/",
     "height": 776
    },
    "colab_type": "code",
    "executionInfo": {
     "elapsed": 3565,
     "status": "ok",
     "timestamp": 1575377333654,
     "user": {
      "displayName": "Anvesh Matta",
      "photoUrl": "https://lh3.googleusercontent.com/a-/AAuE7mAV8PpLg1UuE6lgDlmyD-ryvAMlqrN1UzlgtKthQw=s64",
      "userId": "17499112139080489183"
     },
     "user_tz": -330
    },
    "id": "2mqU20olPK4d",
    "outputId": "f95768a4-88af-4af8-9959-c10b6000e2cb"
   },
   "outputs": [],
   "source": [
    "# To get the full family size of a person, added siblings and parch.\n",
    "#fig, axes = plt.subplots(nrows=1, ncols=1,figsize=(15, 5))\n",
    "titanic_train['family_size'] = titanic_train['SibSp'] + titanic_train['Parch'] + 1 \n",
    "_ = sns.factorplot('family_size','Survived', hue = 'Gender', data=titanic_train, aspect = 4)\n",
    "#separate for male and female\n",
    "_ = sns.factorplot('SibSp','Survived',data=titanic_train,aspect=4)\n",
    "#all passengers"
   ]
  },
  {
   "cell_type": "markdown",
   "metadata": {
    "colab_type": "text",
    "id": "nesnayJzPK4f"
   },
   "source": [
    "- Assumption: the less people was in your family the faster you were to get to the boat. The more people they are the more managment is required. However, if you had no family members you might wanted to help others and therefore sacrifice\n",
    "- The females traveling with up to 2 more family members had a higher chance to survive. However, a high variation of survival rate appears once family size exceeds 4 as mothers/daughters would search longer for the members and therefore the chanes for survival decrease\n",
    "- Alone men might want to sacrifice and help other people to survive"
   ]
  },
  {
   "cell_type": "markdown",
   "metadata": {
    "colab_type": "text",
    "id": "zI5hX-v9PK4h"
   },
   "source": [
    "# General overview of all variables vs survival"
   ]
  },
  {
   "cell_type": "code",
   "execution_count": null,
   "metadata": {
    "colab": {
     "base_uri": "https://localhost:8080/",
     "height": 626
    },
    "colab_type": "code",
    "executionInfo": {
     "elapsed": 3128,
     "status": "ok",
     "timestamp": 1575377335861,
     "user": {
      "displayName": "Anvesh Matta",
      "photoUrl": "https://lh3.googleusercontent.com/a-/AAuE7mAV8PpLg1UuE6lgDlmyD-ryvAMlqrN1UzlgtKthQw=s64",
      "userId": "17499112139080489183"
     },
     "user_tz": -330
    },
    "id": "CQJLXcYiPK4k",
    "outputId": "4eb61e3c-4a67-4ff1-dfa8-9c6136356041"
   },
   "outputs": [],
   "source": [
    "plain_features = ['Pclass', 'Gender', 'SibSp', 'Parch', 'Embarked']\n",
    "fig, ax = plt.subplots(nrows = 2, ncols = 3 ,figsize=(20,10))\n",
    "start = 0\n",
    "for j in range(2):\n",
    "    for i in range(3):\n",
    "        if start == len(plain_features):\n",
    "            break\n",
    "        sns.barplot(x=plain_features[start], y='Survived', data=titanic_train, ax=ax[j,i], ci = False)\n",
    "        start += 1"
   ]
  },
  {
   "cell_type": "markdown",
   "metadata": {
    "colab_type": "text",
    "id": "VQ7iwNHVPK4o"
   },
   "source": [
    "Observations in a Nutshell for all features:\n",
    "- Gender: The chance of survival for women is high as compared to men.\n",
    "\n",
    "- Pclass:There is a visible trend that being a 1st class passenger gives you better chances of survival. The survival rate for Pclass3 is very low. For women, the chance of survival from Pclass1 is almost 1 and is high too for those from Pclass2. Money Wins!!!.\n",
    "\n",
    "- Age: Children less than 5-10 years do have a high chance of survival.Also all old passengers survived(>=80). Most of the passengers between age group 15 to 35 died.\n",
    "\n",
    "- Embarked: This is a very interesting feature. The chances of survival at C looks even though the majority of Pclass1 passengers boarded at S. Passengers at Q were all from Pclass3.\n",
    "\n",
    "- Parch+SibSp: Having 1-2 siblings,spouse on board or 1-3 count of parents/children shows a greater probablity of survival rather than being alone or having a large family travelling with you"
   ]
  },
  {
   "cell_type": "markdown",
   "metadata": {
    "colab_type": "text",
    "id": "TtbMIaG8PK4p"
   },
   "source": [
    "# Data Preprocessing\n",
    "## Missing Value Imputation"
   ]
  },
  {
   "cell_type": "code",
   "execution_count": null,
   "metadata": {},
   "outputs": [],
   "source": [
    "from sklearn.model_selection import train_test_split\n",
    "from sklearn import tree, model_selection\n",
    "from sklearn.metrics import accuracy_score"
   ]
  },
  {
   "cell_type": "code",
   "execution_count": null,
   "metadata": {
    "colab": {
     "base_uri": "https://localhost:8080/",
     "height": 281
    },
    "colab_type": "code",
    "executionInfo": {
     "elapsed": 1229,
     "status": "ok",
     "timestamp": 1575377335862,
     "user": {
      "displayName": "Anvesh Matta",
      "photoUrl": "https://lh3.googleusercontent.com/a-/AAuE7mAV8PpLg1UuE6lgDlmyD-ryvAMlqrN1UzlgtKthQw=s64",
      "userId": "17499112139080489183"
     },
     "user_tz": -330
    },
    "id": "VRQ5tt6APK4p",
    "outputId": "df0ffaa5-9ebe-4c3b-da89-9e94c2bd4bb2"
   },
   "outputs": [],
   "source": [
    "titanic_train.isnull().sum()"
   ]
  },
  {
   "cell_type": "code",
   "execution_count": null,
   "metadata": {
    "colab": {
     "base_uri": "https://localhost:8080/",
     "height": 123
    },
    "colab_type": "code",
    "executionInfo": {
     "elapsed": 820,
     "status": "ok",
     "timestamp": 1575377335863,
     "user": {
      "displayName": "Anvesh Matta",
      "photoUrl": "https://lh3.googleusercontent.com/a-/AAuE7mAV8PpLg1UuE6lgDlmyD-ryvAMlqrN1UzlgtKthQw=s64",
      "userId": "17499112139080489183"
     },
     "user_tz": -330
    },
    "id": "6sCQ1SKoPK4v",
    "outputId": "e3885c75-2977-4c00-ea22-1d81f2bf6dd4"
   },
   "outputs": [],
   "source": [
    "# get records which has null values in 'Embarked' column\n",
    "titanic_train[titanic_train[_____].isnull()] # fill here"
   ]
  },
  {
   "cell_type": "markdown",
   "metadata": {
    "colab_type": "text",
    "id": "Csd8c66rPK4x"
   },
   "source": [
    "PassengerId 62 and 830 have missing embarked values\n",
    "\n",
    "Both have Passenger class 1 and fare $80.\n",
    "\n",
    "plot a graph to visualize and try to guess from where they embarked"
   ]
  },
  {
   "cell_type": "code",
   "execution_count": null,
   "metadata": {
    "colab": {
     "base_uri": "https://localhost:8080/",
     "height": 297
    },
    "colab_type": "code",
    "executionInfo": {
     "elapsed": 1501,
     "status": "ok",
     "timestamp": 1575377338473,
     "user": {
      "displayName": "Anvesh Matta",
      "photoUrl": "https://lh3.googleusercontent.com/a-/AAuE7mAV8PpLg1UuE6lgDlmyD-ryvAMlqrN1UzlgtKthQw=s64",
      "userId": "17499112139080489183"
     },
     "user_tz": -330
    },
    "id": "navcRQkmPK4x",
    "outputId": "48ea2185-cbfc-4c12-9301-4ff9607832f5"
   },
   "outputs": [],
   "source": [
    "sns.boxplot(x=\"_____\", y=\"_____\", hue=\"Pclass\", data=titanic_train) # fill here"
   ]
  },
  {
   "cell_type": "code",
   "execution_count": null,
   "metadata": {
    "colab": {},
    "colab_type": "code",
    "id": "hlc2V_5PPK4z"
   },
   "outputs": [],
   "source": [
    "titanic_train[\"Embarked\"] = titanic_train[\"Embarked\"].fillna('C')"
   ]
  },
  {
   "cell_type": "markdown",
   "metadata": {
    "colab_type": "text",
    "id": "A6J-K3slPK42"
   },
   "source": [
    "For 1st class median line is coming around fare $80 for embarked value 'C'. So we can replace NA values in Embarked column with 'C'"
   ]
  },
  {
   "cell_type": "markdown",
   "metadata": {
    "colab_type": "text",
    "id": "eRZDLGJ8PK42"
   },
   "source": [
    "## Encoding"
   ]
  },
  {
   "cell_type": "code",
   "execution_count": null,
   "metadata": {
    "colab": {},
    "colab_type": "code",
    "id": "FbZ8okTTPK47"
   },
   "outputs": [],
   "source": [
    "# Preprocessing data\n",
    "titanic_train_encoded = pd.get_dummies(titanic_train, columns = ['Embarked','Gender'])"
   ]
  },
  {
   "cell_type": "code",
   "execution_count": null,
   "metadata": {
    "colab": {
     "base_uri": "https://localhost:8080/",
     "height": 334
    },
    "colab_type": "code",
    "executionInfo": {
     "elapsed": 993,
     "status": "ok",
     "timestamp": 1575377342231,
     "user": {
      "displayName": "Anvesh Matta",
      "photoUrl": "https://lh3.googleusercontent.com/a-/AAuE7mAV8PpLg1UuE6lgDlmyD-ryvAMlqrN1UzlgtKthQw=s64",
      "userId": "17499112139080489183"
     },
     "user_tz": -330
    },
    "id": "YymhFHIkPK49",
    "outputId": "47ff134d-3352-4f7d-896e-13a3238c989b"
   },
   "outputs": [],
   "source": [
    "titanic_train_encoded.dtypes"
   ]
  },
  {
   "cell_type": "code",
   "execution_count": null,
   "metadata": {
    "colab": {},
    "colab_type": "code",
    "id": "lOfahcjNPK5A"
   },
   "outputs": [],
   "source": [
    "# get features and target variables from dataframe. Here target variable is 'Survived'\n",
    "X = titanic_train_encoded.drop(['PassengerId','Survived', 'Cabin', 'Name', 'Age', 'Ticket', ], axis = 1)\n",
    "y = titanic_train_encoded[_____] # fill here"
   ]
  },
  {
   "cell_type": "code",
   "execution_count": null,
   "metadata": {
    "colab": {
     "base_uri": "https://localhost:8080/",
     "height": 195
    },
    "colab_type": "code",
    "executionInfo": {
     "elapsed": 1042,
     "status": "ok",
     "timestamp": 1575377344446,
     "user": {
      "displayName": "Anvesh Matta",
      "photoUrl": "https://lh3.googleusercontent.com/a-/AAuE7mAV8PpLg1UuE6lgDlmyD-ryvAMlqrN1UzlgtKthQw=s64",
      "userId": "17499112139080489183"
     },
     "user_tz": -330
    },
    "id": "m63wpwfqPK5C",
    "outputId": "b7eb3936-db00-4101-ea1f-d8523580d2ff"
   },
   "outputs": [],
   "source": [
    "X.head()"
   ]
  },
  {
   "cell_type": "code",
   "execution_count": null,
   "metadata": {
    "colab": {
     "base_uri": "https://localhost:8080/",
     "height": 122
    },
    "colab_type": "code",
    "executionInfo": {
     "elapsed": 1530,
     "status": "ok",
     "timestamp": 1575377345402,
     "user": {
      "displayName": "Anvesh Matta",
      "photoUrl": "https://lh3.googleusercontent.com/a-/AAuE7mAV8PpLg1UuE6lgDlmyD-ryvAMlqrN1UzlgtKthQw=s64",
      "userId": "17499112139080489183"
     },
     "user_tz": -330
    },
    "id": "uLDNYfNiPK5D",
    "outputId": "7f5fc74b-5d33-44a7-f752-6ecd4a14d517"
   },
   "outputs": [],
   "source": [
    " y.head()"
   ]
  },
  {
   "cell_type": "code",
   "execution_count": null,
   "metadata": {
    "colab": {},
    "colab_type": "code",
    "id": "KohK_CQ7PK5F"
   },
   "outputs": [],
   "source": [
    "# Dividing into train and test dataset. Here test_size is 25% i.e., 0.25\n",
    "X_train, X_test, y_train, y_test = train_test_split(X, y, test_size = _____, stratify = y, random_state = 10 ) # fill here"
   ]
  },
  {
   "cell_type": "code",
   "execution_count": null,
   "metadata": {
    "colab": {
     "base_uri": "https://localhost:8080/",
     "height": 122
    },
    "colab_type": "code",
    "executionInfo": {
     "elapsed": 1835,
     "status": "ok",
     "timestamp": 1575377346743,
     "user": {
      "displayName": "Anvesh Matta",
      "photoUrl": "https://lh3.googleusercontent.com/a-/AAuE7mAV8PpLg1UuE6lgDlmyD-ryvAMlqrN1UzlgtKthQw=s64",
      "userId": "17499112139080489183"
     },
     "user_tz": -330
    },
    "id": "ipe-iu1XPK5L",
    "outputId": "67d988b1-86b1-4d5b-e521-0c3cc4312b88"
   },
   "outputs": [],
   "source": [
    "#Baseline Model - As deduced from EDA, most passengers died. Make all passengers as died.\n",
    "X_test['y_pred_bas'] = 0"
   ]
  },
  {
   "cell_type": "code",
   "execution_count": null,
   "metadata": {
    "colab": {
     "base_uri": "https://localhost:8080/",
     "height": 34
    },
    "colab_type": "code",
    "executionInfo": {
     "elapsed": 1482,
     "status": "ok",
     "timestamp": 1575377346744,
     "user": {
      "displayName": "Anvesh Matta",
      "photoUrl": "https://lh3.googleusercontent.com/a-/AAuE7mAV8PpLg1UuE6lgDlmyD-ryvAMlqrN1UzlgtKthQw=s64",
      "userId": "17499112139080489183"
     },
     "user_tz": -330
    },
    "id": "kqFgvNnWPK5N",
    "outputId": "f9e5ad34-4919-4518-d2f0-c194c0aefa1b"
   },
   "outputs": [],
   "source": [
    "accuracy_score(y_test, X_test.y_pred_bas)"
   ]
  },
  {
   "cell_type": "markdown",
   "metadata": {
    "colab_type": "text",
    "id": "9N9cc_z0PK5P"
   },
   "source": [
    "# Model Building"
   ]
  },
  {
   "cell_type": "code",
   "execution_count": null,
   "metadata": {
    "colab": {
     "base_uri": "https://localhost:8080/",
     "height": 122
    },
    "colab_type": "code",
    "executionInfo": {
     "elapsed": 1592,
     "status": "ok",
     "timestamp": 1575377365357,
     "user": {
      "displayName": "Anvesh Matta",
      "photoUrl": "https://lh3.googleusercontent.com/a-/AAuE7mAV8PpLg1UuE6lgDlmyD-ryvAMlqrN1UzlgtKthQw=s64",
      "userId": "17499112139080489183"
     },
     "user_tz": -330
    },
    "id": "Zh3ZkW6xPK5Q",
    "outputId": "58ec93e9-fe96-4b95-cb9a-1ab19d51568d"
   },
   "outputs": [],
   "source": [
    "#Make Decision Tree Model\n",
    "dt = tree.DecisionTreeClassifier()\n",
    "dt.fit(X_train, y_train)"
   ]
  },
  {
   "cell_type": "code",
   "execution_count": null,
   "metadata": {
    "colab": {
     "base_uri": "https://localhost:8080/",
     "height": 87
    },
    "colab_type": "code",
    "executionInfo": {
     "elapsed": 1382,
     "status": "ok",
     "timestamp": 1575377365721,
     "user": {
      "displayName": "Anvesh Matta",
      "photoUrl": "https://lh3.googleusercontent.com/a-/AAuE7mAV8PpLg1UuE6lgDlmyD-ryvAMlqrN1UzlgtKthQw=s64",
      "userId": "17499112139080489183"
     },
     "user_tz": -330
    },
    "id": "LOyGdJJnWolp",
    "outputId": "3b48dd7b-a2fd-4b2b-e2ca-635a073b6c0d"
   },
   "outputs": [],
   "source": [
    "X_test.columns"
   ]
  },
  {
   "cell_type": "code",
   "execution_count": null,
   "metadata": {
    "colab": {},
    "colab_type": "code",
    "id": "Bt5-_0IhPK5S"
   },
   "outputs": [],
   "source": [
    "y_pred = dt.predict(X_test.drop('y_pred_bas', axis=1))"
   ]
  },
  {
   "cell_type": "code",
   "execution_count": null,
   "metadata": {
    "colab": {
     "base_uri": "https://localhost:8080/",
     "height": 210
    },
    "colab_type": "code",
    "executionInfo": {
     "elapsed": 1158,
     "status": "ok",
     "timestamp": 1575377366814,
     "user": {
      "displayName": "Anvesh Matta",
      "photoUrl": "https://lh3.googleusercontent.com/a-/AAuE7mAV8PpLg1UuE6lgDlmyD-ryvAMlqrN1UzlgtKthQw=s64",
      "userId": "17499112139080489183"
     },
     "user_tz": -330
    },
    "id": "hX1FPM56PK5U",
    "outputId": "fde566b9-5df0-450e-f261-a778ea80a2d4"
   },
   "outputs": [],
   "source": [
    "y_pred"
   ]
  },
  {
   "cell_type": "code",
   "execution_count": null,
   "metadata": {
    "colab": {
     "base_uri": "https://localhost:8080/",
     "height": 34
    },
    "colab_type": "code",
    "executionInfo": {
     "elapsed": 1409,
     "status": "ok",
     "timestamp": 1575377370685,
     "user": {
      "displayName": "Anvesh Matta",
      "photoUrl": "https://lh3.googleusercontent.com/a-/AAuE7mAV8PpLg1UuE6lgDlmyD-ryvAMlqrN1UzlgtKthQw=s64",
      "userId": "17499112139080489183"
     },
     "user_tz": -330
    },
    "id": "a-9OiSa4PK5X",
    "outputId": "820f98a1-e6f7-4335-c939-bac74f8c8c8e"
   },
   "outputs": [],
   "source": [
    "_____(y_pred, y_test) # fill here"
   ]
  },
  {
   "cell_type": "code",
   "execution_count": null,
   "metadata": {
    "colab": {},
    "colab_type": "code",
    "id": "sYbo7WdOPK5Z"
   },
   "outputs": [],
   "source": [
    "#Before Actually applying to the test data, you need to check how your model is performing. So we keep some data for validation"
   ]
  },
  {
   "cell_type": "code",
   "execution_count": null,
   "metadata": {
    "colab": {
     "base_uri": "https://localhost:8080/",
     "height": 70
    },
    "colab_type": "code",
    "executionInfo": {
     "elapsed": 1503,
     "status": "ok",
     "timestamp": 1575377380833,
     "user": {
      "displayName": "Anvesh Matta",
      "photoUrl": "https://lh3.googleusercontent.com/a-/AAuE7mAV8PpLg1UuE6lgDlmyD-ryvAMlqrN1UzlgtKthQw=s64",
      "userId": "17499112139080489183"
     },
     "user_tz": -330
    },
    "id": "X3QWZzu4PK5c",
    "outputId": "528fbb63-4080-426e-ec06-cc03fd7b51d5"
   },
   "outputs": [],
   "source": [
    "cv_scores = model_selection.cross_val_score(dt, X_train, y_train, cv=10, verbose=1)\n",
    "print ('Cross Validation Score : ',cv_scores.mean() )"
   ]
  },
  {
   "cell_type": "code",
   "execution_count": null,
   "metadata": {
    "colab": {
     "base_uri": "https://localhost:8080/",
     "height": 34
    },
    "colab_type": "code",
    "executionInfo": {
     "elapsed": 928,
     "status": "ok",
     "timestamp": 1575377380837,
     "user": {
      "displayName": "Anvesh Matta",
      "photoUrl": "https://lh3.googleusercontent.com/a-/AAuE7mAV8PpLg1UuE6lgDlmyD-ryvAMlqrN1UzlgtKthQw=s64",
      "userId": "17499112139080489183"
     },
     "user_tz": -330
    },
    "id": "GxPK-qOHPK5f",
    "outputId": "ca218250-d2d2-44df-c5bc-27c11414b5d5"
   },
   "outputs": [],
   "source": [
    "print('Training Accuracy : ', dt.score(X_train,y_train))"
   ]
  },
  {
   "cell_type": "code",
   "execution_count": null,
   "metadata": {
    "colab": {
     "base_uri": "https://localhost:8080/",
     "height": 52
    },
    "colab_type": "code",
    "executionInfo": {
     "elapsed": 1036,
     "status": "ok",
     "timestamp": 1575377381446,
     "user": {
      "displayName": "Anvesh Matta",
      "photoUrl": "https://lh3.googleusercontent.com/a-/AAuE7mAV8PpLg1UuE6lgDlmyD-ryvAMlqrN1UzlgtKthQw=s64",
      "userId": "17499112139080489183"
     },
     "user_tz": -330
    },
    "id": "3pZI7TBBPK5k",
    "outputId": "1c57ac27-4d88-4be8-c762-58ff327b5560"
   },
   "outputs": [],
   "source": [
    "confusion_matrix(_____, y_test) # fill here"
   ]
  },
  {
   "cell_type": "markdown",
   "metadata": {},
   "source": [
    "# ML resource links\n",
    "- [Machine learning course in Coursera](https://www.coursera.org/learn/machine-learning)\n",
    "- [Google's ML crash course](https://developers.google.com/machine-learning/crash-course/)\n",
    "- [Learning Path : Your mentor to become a machine learning expert - Analytics Vidhya](https://www.analyticsvidhya.com/learning-path-learn-machine-learning/)\n",
    "- [Kaggle's Micro-Courses](https://www.kaggle.com/learn/overview)\n",
    "- [Scikit-Learn tutorials](https://scikit-learn.org/stable/tutorial/index.html)\n",
    "\n",
    "# Top blog posts\n",
    "- [Data Science Central](https://www.datasciencecentral.com/)\n",
    "- [Analytics Vidhya](https://www.analyticsvidhya.com/)\n",
    "- [Machine Learning Mastery](https://machinelearningmastery.com/start-here/)\n",
    "- [DeepMind](https://deepmind.com/blog), [Google AI](https://ai.googleblog.com/), [OpenAI](https://openai.com/blog/)\n",
    "- [Medium articles](https://medium.com/topic/machine-learning)\n",
    "- [Other blogs](https://www.springboard.com/blog/machine-learning-blog/)\n",
    "\n",
    "# Competitions\n",
    "- [Kaggle](https://www.kaggle.com/competitions)\n",
    "- [DataHack Analytics Vidhya](https://datahack.analyticsvidhya.com/)\n",
    "- [Other platforms](https://towardsdatascience.com/10-data-science-competitions-for-you-to-hone-your-skills-for-2020-32d87ee19cc9)"
   ]
  },
  {
   "cell_type": "markdown",
   "metadata": {},
   "source": [
    "# The End!"
   ]
  }
 ],
 "metadata": {
  "colab": {
   "collapsed_sections": [
    "Q4VTzjjEPK4H",
    "3CKiPuxUPK4K",
    "nxwhkBnyPK4Q",
    "nVVxcFjMPK4b"
   ],
   "name": "Titanic Survival Prediction-v1_fill_in_blanks.ipynb",
   "provenance": [],
   "toc_visible": true
  },
  "kernelspec": {
   "display_name": "Python 3",
   "language": "python",
   "name": "python3"
  },
  "language_info": {
   "codemirror_mode": {
    "name": "ipython",
    "version": 3
   },
   "file_extension": ".py",
   "mimetype": "text/x-python",
   "name": "python",
   "nbconvert_exporter": "python",
   "pygments_lexer": "ipython3",
   "version": "3.7.0"
  }
 },
 "nbformat": 4,
 "nbformat_minor": 1
}
